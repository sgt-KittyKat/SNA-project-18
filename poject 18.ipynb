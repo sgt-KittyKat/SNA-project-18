{
 "cells": [
  {
   "cell_type": "code",
   "execution_count": 1,
   "id": "9ea833b4-20ef-4cfb-91e0-3dc32e2dff8f",
   "metadata": {},
   "outputs": [],
   "source": [
    "import pyalex as alex\n",
    "import numpy as np\n",
    "import pandas\n",
    "import matplotlib.pyplot as plt\n",
    "import networkx as nx"
   ]
  },
  {
   "cell_type": "code",
   "execution_count": 2,
   "id": "83b739aa-ffca-4edf-9e6c-7dc27f83d93e",
   "metadata": {},
   "outputs": [],
   "source": [
    "#COLLECTING WORKS FROM THE \"WATER RESOURCES RESEARCH\" REPOSITORY FROM YEARS 2019 TO 2024\n",
    "w = alex.Works().filter(primary_location = {\"source\": {\"id\": \"s204847658\"}}).filter(publication_year=\"2019-2024\")"
   ]
  },
  {
   "cell_type": "code",
   "execution_count": 3,
   "id": "0d280386-3093-452d-80b6-955804cbcc69",
   "metadata": {},
   "outputs": [],
   "source": [
    "pages = []\n",
    "for page in range(1, int(w.count()/100) + 2):\n",
    "    pages.append(w.get(page=page, per_page=100))"
   ]
  },
  {
   "cell_type": "code",
   "execution_count": 4,
   "id": "8b8b66e2-291d-494c-8480-80f74a97be82",
   "metadata": {},
   "outputs": [],
   "source": [
    "raw_data = []\n",
    "for page in pages:\n",
    "    raw_data += page"
   ]
  },
  {
   "cell_type": "code",
   "execution_count": 5,
   "id": "ff8d8de9-7d3f-418c-a2c0-12e5c5dce1a6",
   "metadata": {},
   "outputs": [
    {
     "data": {
      "text/plain": [
       "{'id': 'https://openalex.org/W2946882019',\n",
       " 'doi': 'https://doi.org/10.1029/2019wr024873',\n",
       " 'title': 'MERIT Hydro: A High‐Resolution Global Hydrography Map Based on Latest Topography Dataset',\n",
       " 'display_name': 'MERIT Hydro: A High‐Resolution Global Hydrography Map Based on Latest Topography Dataset',\n",
       " 'publication_year': 2019,\n",
       " 'publication_date': '2019-06-01',\n",
       " 'ids': {'openalex': 'https://openalex.org/W2946882019',\n",
       "  'doi': 'https://doi.org/10.1029/2019wr024873',\n",
       "  'mag': '2946882019'},\n",
       " 'language': 'en',\n",
       " 'primary_location': {'is_oa': True,\n",
       "  'landing_page_url': 'https://doi.org/10.1029/2019wr024873',\n",
       "  'pdf_url': 'https://agupubs.onlinelibrary.wiley.com/doi/pdfdirect/10.1029/2019WR024873',\n",
       "  'source': {'id': 'https://openalex.org/S204847658',\n",
       "   'display_name': 'Water resources research',\n",
       "   'issn_l': '0043-1397',\n",
       "   'issn': ['0043-1397', '1944-7973'],\n",
       "   'is_oa': False,\n",
       "   'is_in_doaj': False,\n",
       "   'host_organization': 'https://openalex.org/P4310320503',\n",
       "   'host_organization_name': 'Wiley-Blackwell',\n",
       "   'host_organization_lineage': ['https://openalex.org/P4310320503',\n",
       "    'https://openalex.org/P4310320595'],\n",
       "   'host_organization_lineage_names': ['Wiley-Blackwell', 'Wiley'],\n",
       "   'type': 'journal'},\n",
       "  'license': 'cc-by-nc-nd',\n",
       "  'license_id': 'https://openalex.org/licenses/cc-by-nc-nd',\n",
       "  'version': 'publishedVersion',\n",
       "  'is_accepted': True,\n",
       "  'is_published': True},\n",
       " 'type': 'article',\n",
       " 'type_crossref': 'journal-article',\n",
       " 'indexed_in': ['crossref'],\n",
       " 'open_access': {'is_oa': True,\n",
       "  'oa_status': 'hybrid',\n",
       "  'oa_url': 'https://agupubs.onlinelibrary.wiley.com/doi/pdfdirect/10.1029/2019WR024873',\n",
       "  'any_repository_has_fulltext': True},\n",
       " 'authorships': [{'author_position': 'first',\n",
       "   'author': {'id': 'https://openalex.org/A5008051691',\n",
       "    'display_name': 'Dai Yamazaki',\n",
       "    'orcid': 'https://orcid.org/0000-0002-6478-1841'},\n",
       "   'institutions': [{'id': 'https://openalex.org/I74801974',\n",
       "     'display_name': 'The University of Tokyo',\n",
       "     'ror': 'https://ror.org/057zh3y96',\n",
       "     'country_code': 'JP',\n",
       "     'type': 'education',\n",
       "     'lineage': ['https://openalex.org/I74801974']},\n",
       "    {'id': 'https://openalex.org/I114531698',\n",
       "     'display_name': 'Tokyo Institute of Technology',\n",
       "     'ror': 'https://ror.org/0112mx960',\n",
       "     'country_code': 'JP',\n",
       "     'type': 'education',\n",
       "     'lineage': ['https://openalex.org/I114531698']}],\n",
       "   'countries': ['JP'],\n",
       "   'is_corresponding': True,\n",
       "   'raw_author_name': 'Dai Yamazaki',\n",
       "   'raw_affiliation_strings': ['Department of Civil and Environmental Engineering, Tokyo Institute of Technology, Tokyo, Japan',\n",
       "    'Institute of Industrial Science, The University of Tokyo, Tokyo, Japan']},\n",
       "  {'author_position': 'middle',\n",
       "   'author': {'id': 'https://openalex.org/A5045081351',\n",
       "    'display_name': 'Daiki Ikeshima',\n",
       "    'orcid': 'https://orcid.org/0000-0001-8898-4806'},\n",
       "   'institutions': [{'id': 'https://openalex.org/I114531698',\n",
       "     'display_name': 'Tokyo Institute of Technology',\n",
       "     'ror': 'https://ror.org/0112mx960',\n",
       "     'country_code': 'JP',\n",
       "     'type': 'education',\n",
       "     'lineage': ['https://openalex.org/I114531698']}],\n",
       "   'countries': ['JP'],\n",
       "   'is_corresponding': False,\n",
       "   'raw_author_name': 'Daiki Ikeshima',\n",
       "   'raw_affiliation_strings': ['Department of Civil and Environmental Engineering, Tokyo Institute of Technology, Tokyo, Japan']},\n",
       "  {'author_position': 'middle',\n",
       "   'author': {'id': 'https://openalex.org/A5030116863',\n",
       "    'display_name': 'Jeison Sosa',\n",
       "    'orcid': 'https://orcid.org/0000-0002-4808-2063'},\n",
       "   'institutions': [{'id': 'https://openalex.org/I36234482',\n",
       "     'display_name': 'University of Bristol',\n",
       "     'ror': 'https://ror.org/0524sp257',\n",
       "     'country_code': 'GB',\n",
       "     'type': 'education',\n",
       "     'lineage': ['https://openalex.org/I36234482']}],\n",
       "   'countries': ['GB'],\n",
       "   'is_corresponding': False,\n",
       "   'raw_author_name': 'Jeison Sosa',\n",
       "   'raw_affiliation_strings': ['School of Geographical Sciences, University of Bristol, Bristol, UK']},\n",
       "  {'author_position': 'middle',\n",
       "   'author': {'id': 'https://openalex.org/A5041770872',\n",
       "    'display_name': 'Paul Bates',\n",
       "    'orcid': 'https://orcid.org/0000-0001-9192-9963'},\n",
       "   'institutions': [{'id': 'https://openalex.org/I36234482',\n",
       "     'display_name': 'University of Bristol',\n",
       "     'ror': 'https://ror.org/0524sp257',\n",
       "     'country_code': 'GB',\n",
       "     'type': 'education',\n",
       "     'lineage': ['https://openalex.org/I36234482']}],\n",
       "   'countries': ['GB'],\n",
       "   'is_corresponding': False,\n",
       "   'raw_author_name': 'Paul D. Bates',\n",
       "   'raw_affiliation_strings': ['School of Geographical Sciences, University of Bristol, Bristol, UK']},\n",
       "  {'author_position': 'middle',\n",
       "   'author': {'id': 'https://openalex.org/A5029388001',\n",
       "    'display_name': 'George H. Allen',\n",
       "    'orcid': 'https://orcid.org/0000-0001-8301-5301'},\n",
       "   'institutions': [{'id': 'https://openalex.org/I91045830',\n",
       "     'display_name': 'Texas A&M University',\n",
       "     'ror': 'https://ror.org/01f5ytq51',\n",
       "     'country_code': 'US',\n",
       "     'type': 'education',\n",
       "     'lineage': ['https://openalex.org/I173268674',\n",
       "      'https://openalex.org/I91045830']}],\n",
       "   'countries': ['US'],\n",
       "   'is_corresponding': False,\n",
       "   'raw_author_name': 'George H. Allen',\n",
       "   'raw_affiliation_strings': ['Department of Geography, Texas A&M University, College Station, TX, USA']},\n",
       "  {'author_position': 'last',\n",
       "   'author': {'id': 'https://openalex.org/A5045450401',\n",
       "    'display_name': 'Tamlin M. Pavelsky',\n",
       "    'orcid': 'https://orcid.org/0000-0002-0613-3838'},\n",
       "   'institutions': [{'id': 'https://openalex.org/I114027177',\n",
       "     'display_name': 'University of North Carolina at Chapel Hill',\n",
       "     'ror': 'https://ror.org/0130frc33',\n",
       "     'country_code': 'US',\n",
       "     'type': 'education',\n",
       "     'lineage': ['https://openalex.org/I114027177']}],\n",
       "   'countries': ['US'],\n",
       "   'is_corresponding': False,\n",
       "   'raw_author_name': 'Tamlin M. Pavelsky',\n",
       "   'raw_affiliation_strings': ['Department of Geological Sciences, University of North Carolina, Chapel Hill, NC, USA']}],\n",
       " 'countries_distinct_count': 3,\n",
       " 'institutions_distinct_count': 5,\n",
       " 'corresponding_author_ids': ['https://openalex.org/A5008051691'],\n",
       " 'corresponding_institution_ids': ['https://openalex.org/I74801974',\n",
       "  'https://openalex.org/I114531698'],\n",
       " 'apc_list': {'value': 3000,\n",
       "  'currency': 'USD',\n",
       "  'value_usd': 3000,\n",
       "  'provenance': 'doaj'},\n",
       " 'apc_paid': {'value': 3000,\n",
       "  'currency': 'USD',\n",
       "  'value_usd': 3000,\n",
       "  'provenance': 'doaj'},\n",
       " 'has_fulltext': True,\n",
       " 'fulltext_origin': 'ngrams',\n",
       " 'cited_by_count': 432,\n",
       " 'cited_by_percentile_year': {'min': 99, 'max': 100},\n",
       " 'biblio': {'volume': '55',\n",
       "  'issue': '6',\n",
       "  'first_page': '5053',\n",
       "  'last_page': '5073'},\n",
       " 'is_retracted': False,\n",
       " 'is_paratext': False,\n",
       " 'primary_topic': {'id': 'https://openalex.org/T10930',\n",
       "  'display_name': 'Global Flood Risk Assessment and Management',\n",
       "  'score': 0.9991,\n",
       "  'subfield': {'id': 'https://openalex.org/subfields/2306',\n",
       "   'display_name': 'Global and Planetary Change'},\n",
       "  'field': {'id': 'https://openalex.org/fields/23',\n",
       "   'display_name': 'Environmental Science'},\n",
       "  'domain': {'id': 'https://openalex.org/domains/3',\n",
       "   'display_name': 'Physical Sciences'}},\n",
       " 'topics': [{'id': 'https://openalex.org/T10930',\n",
       "   'display_name': 'Global Flood Risk Assessment and Management',\n",
       "   'score': 0.9991,\n",
       "   'subfield': {'id': 'https://openalex.org/subfields/2306',\n",
       "    'display_name': 'Global and Planetary Change'},\n",
       "   'field': {'id': 'https://openalex.org/fields/23',\n",
       "    'display_name': 'Environmental Science'},\n",
       "   'domain': {'id': 'https://openalex.org/domains/3',\n",
       "    'display_name': 'Physical Sciences'}},\n",
       "  {'id': 'https://openalex.org/T10330',\n",
       "   'display_name': 'Hydrological Modeling and Water Resource Management',\n",
       "   'score': 0.998,\n",
       "   'subfield': {'id': 'https://openalex.org/subfields/2312',\n",
       "    'display_name': 'Water Science and Technology'},\n",
       "   'field': {'id': 'https://openalex.org/fields/23',\n",
       "    'display_name': 'Environmental Science'},\n",
       "   'domain': {'id': 'https://openalex.org/domains/3',\n",
       "    'display_name': 'Physical Sciences'}},\n",
       "  {'id': 'https://openalex.org/T10577',\n",
       "   'display_name': 'Ecological Dynamics of Riverine Landscapes',\n",
       "   'score': 0.9767,\n",
       "   'subfield': {'id': 'https://openalex.org/subfields/2303',\n",
       "    'display_name': 'Ecology'},\n",
       "   'field': {'id': 'https://openalex.org/fields/23',\n",
       "    'display_name': 'Environmental Science'},\n",
       "   'domain': {'id': 'https://openalex.org/domains/3',\n",
       "    'display_name': 'Physical Sciences'}}],\n",
       " 'keywords': [{'id': 'https://openalex.org/keywords/surface-water-mapping',\n",
       "   'display_name': 'Surface Water Mapping',\n",
       "   'score': 0.617987},\n",
       "  {'id': 'https://openalex.org/keywords/watershed-simulation',\n",
       "   'display_name': 'Watershed Simulation',\n",
       "   'score': 0.523654},\n",
       "  {'id': 'https://openalex.org/keywords/global-hydrology',\n",
       "   'display_name': 'Global Hydrology',\n",
       "   'score': 0.518043},\n",
       "  {'id': 'https://openalex.org/keywords/hydrological-modeling',\n",
       "   'display_name': 'Hydrological Modeling',\n",
       "   'score': 0.513417}],\n",
       " 'concepts': [{'id': 'https://openalex.org/C76256466',\n",
       "   'wikidata': 'https://www.wikidata.org/wiki/Q182468',\n",
       "   'display_name': 'Hydrography',\n",
       "   'level': 2,\n",
       "   'score': 0.5761729},\n",
       "  {'id': 'https://openalex.org/C53739315',\n",
       "   'wikidata': 'https://www.wikidata.org/wiki/Q29425295',\n",
       "   'display_name': 'Streamflow',\n",
       "   'level': 3,\n",
       "   'score': 0.5570355},\n",
       "  {'id': 'https://openalex.org/C37054046',\n",
       "   'wikidata': 'https://www.wikidata.org/wiki/Q641888',\n",
       "   'display_name': 'Elevation (ballistics)',\n",
       "   'level': 2,\n",
       "   'score': 0.50894904},\n",
       "  {'id': 'https://openalex.org/C76886044',\n",
       "   'wikidata': 'https://www.wikidata.org/wiki/Q2883300',\n",
       "   'display_name': 'Hydrology (agriculture)',\n",
       "   'level': 2,\n",
       "   'score': 0.5015731},\n",
       "  {'id': 'https://openalex.org/C55865629',\n",
       "   'wikidata': 'https://www.wikidata.org/wiki/Q7189710',\n",
       "   'display_name': 'Physiographic province',\n",
       "   'level': 2,\n",
       "   'score': 0.47173846},\n",
       "  {'id': 'https://openalex.org/C50477045',\n",
       "   'wikidata': 'https://www.wikidata.org/wiki/Q1444790',\n",
       "   'display_name': 'Surface runoff',\n",
       "   'level': 2,\n",
       "   'score': 0.4586487},\n",
       "  {'id': 'https://openalex.org/C62649853',\n",
       "   'wikidata': 'https://www.wikidata.org/wiki/Q199687',\n",
       "   'display_name': 'Remote sensing',\n",
       "   'level': 1,\n",
       "   'score': 0.44872493},\n",
       "  {'id': 'https://openalex.org/C127162648',\n",
       "   'wikidata': 'https://www.wikidata.org/wiki/Q16858953',\n",
       "   'display_name': 'Channel (broadcasting)',\n",
       "   'level': 2,\n",
       "   'score': 0.43475938},\n",
       "  {'id': 'https://openalex.org/C127313418',\n",
       "   'wikidata': 'https://www.wikidata.org/wiki/Q1069',\n",
       "   'display_name': 'Geology',\n",
       "   'level': 0,\n",
       "   'score': 0.4326942},\n",
       "  {'id': 'https://openalex.org/C126645576',\n",
       "   'wikidata': 'https://www.wikidata.org/wiki/Q166620',\n",
       "   'display_name': 'Drainage basin',\n",
       "   'level': 2,\n",
       "   'score': 0.42691553},\n",
       "  {'id': 'https://openalex.org/C181843262',\n",
       "   'wikidata': 'https://www.wikidata.org/wiki/Q640492',\n",
       "   'display_name': 'Digital elevation model',\n",
       "   'level': 2,\n",
       "   'score': 0.41183558},\n",
       "  {'id': 'https://openalex.org/C39432304',\n",
       "   'wikidata': 'https://www.wikidata.org/wiki/Q188847',\n",
       "   'display_name': 'Environmental science',\n",
       "   'level': 0,\n",
       "   'score': 0.3881525},\n",
       "  {'id': 'https://openalex.org/C114793014',\n",
       "   'wikidata': 'https://www.wikidata.org/wiki/Q52109',\n",
       "   'display_name': 'Geomorphology',\n",
       "   'level': 1,\n",
       "   'score': 0.16240093},\n",
       "  {'id': 'https://openalex.org/C205649164',\n",
       "   'wikidata': 'https://www.wikidata.org/wiki/Q1071',\n",
       "   'display_name': 'Geography',\n",
       "   'level': 0,\n",
       "   'score': 0.12604237},\n",
       "  {'id': 'https://openalex.org/C58640448',\n",
       "   'wikidata': 'https://www.wikidata.org/wiki/Q42515',\n",
       "   'display_name': 'Cartography',\n",
       "   'level': 1,\n",
       "   'score': 0.1122472},\n",
       "  {'id': 'https://openalex.org/C41008148',\n",
       "   'wikidata': 'https://www.wikidata.org/wiki/Q21198',\n",
       "   'display_name': 'Computer science',\n",
       "   'level': 0,\n",
       "   'score': 0.107483834},\n",
       "  {'id': 'https://openalex.org/C18903297',\n",
       "   'wikidata': 'https://www.wikidata.org/wiki/Q7150',\n",
       "   'display_name': 'Ecology',\n",
       "   'level': 1,\n",
       "   'score': 0.0},\n",
       "  {'id': 'https://openalex.org/C31258907',\n",
       "   'wikidata': 'https://www.wikidata.org/wiki/Q1301371',\n",
       "   'display_name': 'Computer network',\n",
       "   'level': 1,\n",
       "   'score': 0.0},\n",
       "  {'id': 'https://openalex.org/C111368507',\n",
       "   'wikidata': 'https://www.wikidata.org/wiki/Q43518',\n",
       "   'display_name': 'Oceanography',\n",
       "   'level': 1,\n",
       "   'score': 0.0},\n",
       "  {'id': 'https://openalex.org/C2524010',\n",
       "   'wikidata': 'https://www.wikidata.org/wiki/Q8087',\n",
       "   'display_name': 'Geometry',\n",
       "   'level': 1,\n",
       "   'score': 0.0},\n",
       "  {'id': 'https://openalex.org/C33923547',\n",
       "   'wikidata': 'https://www.wikidata.org/wiki/Q395',\n",
       "   'display_name': 'Mathematics',\n",
       "   'level': 0,\n",
       "   'score': 0.0},\n",
       "  {'id': 'https://openalex.org/C187320778',\n",
       "   'wikidata': 'https://www.wikidata.org/wiki/Q1349130',\n",
       "   'display_name': 'Geotechnical engineering',\n",
       "   'level': 1,\n",
       "   'score': 0.0},\n",
       "  {'id': 'https://openalex.org/C86803240',\n",
       "   'wikidata': 'https://www.wikidata.org/wiki/Q420',\n",
       "   'display_name': 'Biology',\n",
       "   'level': 0,\n",
       "   'score': 0.0}],\n",
       " 'mesh': [],\n",
       " 'locations_count': 5,\n",
       " 'locations': [{'is_oa': True,\n",
       "   'landing_page_url': 'https://doi.org/10.1029/2019wr024873',\n",
       "   'pdf_url': 'https://agupubs.onlinelibrary.wiley.com/doi/pdfdirect/10.1029/2019WR024873',\n",
       "   'source': {'id': 'https://openalex.org/S204847658',\n",
       "    'display_name': 'Water resources research',\n",
       "    'issn_l': '0043-1397',\n",
       "    'issn': ['0043-1397', '1944-7973'],\n",
       "    'is_oa': False,\n",
       "    'is_in_doaj': False,\n",
       "    'host_organization': 'https://openalex.org/P4310320503',\n",
       "    'host_organization_name': 'Wiley-Blackwell',\n",
       "    'host_organization_lineage': ['https://openalex.org/P4310320503',\n",
       "     'https://openalex.org/P4310320595'],\n",
       "    'host_organization_lineage_names': ['Wiley-Blackwell', 'Wiley'],\n",
       "    'type': 'journal'},\n",
       "   'license': 'cc-by-nc-nd',\n",
       "   'license_id': 'https://openalex.org/licenses/cc-by-nc-nd',\n",
       "   'version': 'publishedVersion',\n",
       "   'is_accepted': True,\n",
       "   'is_published': True},\n",
       "  {'is_oa': True,\n",
       "   'landing_page_url': 'https://research-information.bris.ac.uk/ws/files/200828921/Yamazaki_et_al_2019_Water_Resources_Research.pdf',\n",
       "   'pdf_url': 'https://research-information.bris.ac.uk/ws/files/200828921/Yamazaki_et_al_2019_Water_Resources_Research.pdf',\n",
       "   'source': {'id': 'https://openalex.org/S4306400895',\n",
       "    'display_name': 'Bristol Research (University of Bristol)',\n",
       "    'issn_l': None,\n",
       "    'issn': None,\n",
       "    'is_oa': True,\n",
       "    'is_in_doaj': False,\n",
       "    'host_organization': 'https://openalex.org/I36234482',\n",
       "    'host_organization_name': 'University of Bristol',\n",
       "    'host_organization_lineage': ['https://openalex.org/I36234482'],\n",
       "    'host_organization_lineage_names': ['University of Bristol'],\n",
       "    'type': 'repository'},\n",
       "   'license': 'cc-by-nc-nd',\n",
       "   'license_id': 'https://openalex.org/licenses/cc-by-nc-nd',\n",
       "   'version': 'publishedVersion',\n",
       "   'is_accepted': True,\n",
       "   'is_published': True},\n",
       "  {'is_oa': True,\n",
       "   'landing_page_url': 'https://doi.org/10.17615/g79g-dv28',\n",
       "   'pdf_url': 'https://cdr.lib.unc.edu/downloads/tb09jg436',\n",
       "   'source': {'id': 'https://openalex.org/S4306401075',\n",
       "    'display_name': 'Carolina Digital Repository (University of North Carolina at Chapel Hill)',\n",
       "    'issn_l': None,\n",
       "    'issn': None,\n",
       "    'is_oa': True,\n",
       "    'is_in_doaj': False,\n",
       "    'host_organization': 'https://openalex.org/I114027177',\n",
       "    'host_organization_name': 'University of North Carolina at Chapel Hill',\n",
       "    'host_organization_lineage': ['https://openalex.org/I114027177'],\n",
       "    'host_organization_lineage_names': ['University of North Carolina at Chapel Hill'],\n",
       "    'type': 'repository'},\n",
       "   'license': None,\n",
       "   'license_id': None,\n",
       "   'version': 'publishedVersion',\n",
       "   'is_accepted': True,\n",
       "   'is_published': True},\n",
       "  {'is_oa': True,\n",
       "   'landing_page_url': 'https://hdl.handle.net/1983/74b93ef1-da84-49db-b178-1cc1df6cbc0f',\n",
       "   'pdf_url': 'https://research-information.bris.ac.uk/files/194619603/847921_1_merged_1557282340.pdf',\n",
       "   'source': {'id': 'https://openalex.org/S4306400895',\n",
       "    'display_name': 'Bristol Research (University of Bristol)',\n",
       "    'issn_l': None,\n",
       "    'issn': None,\n",
       "    'is_oa': True,\n",
       "    'is_in_doaj': False,\n",
       "    'host_organization': 'https://openalex.org/I36234482',\n",
       "    'host_organization_name': 'University of Bristol',\n",
       "    'host_organization_lineage': ['https://openalex.org/I36234482'],\n",
       "    'host_organization_lineage_names': ['University of Bristol'],\n",
       "    'type': 'repository'},\n",
       "   'license': 'cc-by-nc-nd',\n",
       "   'license_id': 'https://openalex.org/licenses/cc-by-nc-nd',\n",
       "   'version': 'submittedVersion',\n",
       "   'is_accepted': False,\n",
       "   'is_published': False},\n",
       "  {'is_oa': True,\n",
       "   'landing_page_url': 'https://research-information.bris.ac.uk/ws/files/194619603/847921_1_merged_1557282340.pdf',\n",
       "   'pdf_url': 'https://research-information.bris.ac.uk/ws/files/194619603/847921_1_merged_1557282340.pdf',\n",
       "   'source': {'id': 'https://openalex.org/S4306400895',\n",
       "    'display_name': 'Bristol Research (University of Bristol)',\n",
       "    'issn_l': None,\n",
       "    'issn': None,\n",
       "    'is_oa': True,\n",
       "    'is_in_doaj': False,\n",
       "    'host_organization': 'https://openalex.org/I36234482',\n",
       "    'host_organization_name': 'University of Bristol',\n",
       "    'host_organization_lineage': ['https://openalex.org/I36234482'],\n",
       "    'host_organization_lineage_names': ['University of Bristol'],\n",
       "    'type': 'repository'},\n",
       "   'license': None,\n",
       "   'license_id': None,\n",
       "   'version': 'submittedVersion',\n",
       "   'is_accepted': False,\n",
       "   'is_published': False}],\n",
       " 'best_oa_location': {'is_oa': True,\n",
       "  'landing_page_url': 'https://doi.org/10.1029/2019wr024873',\n",
       "  'pdf_url': 'https://agupubs.onlinelibrary.wiley.com/doi/pdfdirect/10.1029/2019WR024873',\n",
       "  'source': {'id': 'https://openalex.org/S204847658',\n",
       "   'display_name': 'Water resources research',\n",
       "   'issn_l': '0043-1397',\n",
       "   'issn': ['0043-1397', '1944-7973'],\n",
       "   'is_oa': False,\n",
       "   'is_in_doaj': False,\n",
       "   'host_organization': 'https://openalex.org/P4310320503',\n",
       "   'host_organization_name': 'Wiley-Blackwell',\n",
       "   'host_organization_lineage': ['https://openalex.org/P4310320503',\n",
       "    'https://openalex.org/P4310320595'],\n",
       "   'host_organization_lineage_names': ['Wiley-Blackwell', 'Wiley'],\n",
       "   'type': 'journal'},\n",
       "  'license': 'cc-by-nc-nd',\n",
       "  'license_id': 'https://openalex.org/licenses/cc-by-nc-nd',\n",
       "  'version': 'publishedVersion',\n",
       "  'is_accepted': True,\n",
       "  'is_published': True},\n",
       " 'sustainable_development_goals': [{'score': 0.78,\n",
       "   'id': 'https://metadata.un.org/sdg/13',\n",
       "   'display_name': 'Climate action'}],\n",
       " 'grants': [{'funder': 'https://openalex.org/F4320320912',\n",
       "   'funder_display_name': 'Ministry of Education, Culture, Sports, Science and Technology',\n",
       "   'award_id': None},\n",
       "  {'funder': 'https://openalex.org/F4320334764',\n",
       "   'funder_display_name': 'Japan Society for the Promotion of Science',\n",
       "   'award_id': '16H06291'}],\n",
       " 'datasets': [],\n",
       " 'versions': [],\n",
       " 'referenced_works_count': 25,\n",
       " 'referenced_works': ['https://openalex.org/W1657065621',\n",
       "  'https://openalex.org/W1952891980',\n",
       "  'https://openalex.org/W1981213426',\n",
       "  'https://openalex.org/W2025969570',\n",
       "  'https://openalex.org/W2030671664',\n",
       "  'https://openalex.org/W2033355897',\n",
       "  'https://openalex.org/W2051721130',\n",
       "  'https://openalex.org/W2083971681',\n",
       "  'https://openalex.org/W2084744129',\n",
       "  'https://openalex.org/W2088733802',\n",
       "  'https://openalex.org/W2093267972',\n",
       "  'https://openalex.org/W2102868863',\n",
       "  'https://openalex.org/W2117769867',\n",
       "  'https://openalex.org/W2119534769',\n",
       "  'https://openalex.org/W2142536527',\n",
       "  'https://openalex.org/W2151185470',\n",
       "  'https://openalex.org/W2157954302',\n",
       "  'https://openalex.org/W2170339705',\n",
       "  'https://openalex.org/W2171675471',\n",
       "  'https://openalex.org/W2192883182',\n",
       "  'https://openalex.org/W2560167313',\n",
       "  'https://openalex.org/W2620109964',\n",
       "  'https://openalex.org/W2725897987',\n",
       "  'https://openalex.org/W2734715086',\n",
       "  'https://openalex.org/W2811310577'],\n",
       " 'related_works': ['https://openalex.org/W4239147863',\n",
       "  'https://openalex.org/W4206741056',\n",
       "  'https://openalex.org/W3148155918',\n",
       "  'https://openalex.org/W3040595263',\n",
       "  'https://openalex.org/W2909855017',\n",
       "  'https://openalex.org/W2903781741',\n",
       "  'https://openalex.org/W2462682329',\n",
       "  'https://openalex.org/W2352163239',\n",
       "  'https://openalex.org/W2053526712',\n",
       "  'https://openalex.org/W1621772017'],\n",
       " 'ngrams_url': 'https://api.openalex.org/works/W2946882019/ngrams',\n",
       " 'abstract_inverted_index': {'Abstract': [0],\n",
       "  'High‐resolution': [1],\n",
       "  'raster': [2],\n",
       "  'hydrography': [3, 90, 188],\n",
       "  'maps': [4],\n",
       "  'are': [5, 168],\n",
       "  'a': [6, 19, 56, 82],\n",
       "  'fundamental': [7],\n",
       "  'data': [8, 39, 45, 100, 189, 214],\n",
       "  'source': [9],\n",
       "  'for': [10, 135],\n",
       "  'many': [11],\n",
       "  'geoscience': [12, 238],\n",
       "  'applications.': [13],\n",
       "  'Here': [14],\n",
       "  'we': [15],\n",
       "  'introduce': [16],\n",
       "  'MERIT': [17, 182],\n",
       "  'Hydro,': [18],\n",
       "  'new': [20, 57, 217],\n",
       "  'global': [21, 123, 150, 187, 246],\n",
       "  'flow': [22, 105, 155, 218, 221],\n",
       "  'direction': [23, 219],\n",
       "  'map': [24, 91],\n",
       "  'at': [25, 31, 171, 244],\n",
       "  '3‐arc': [26],\n",
       "  'sec': [27],\n",
       "  'resolution': [28],\n",
       "  '(~90': [29],\n",
       "  'm': [30],\n",
       "  'the': [32, 36, 75, 88, 130, 145, 148],\n",
       "  'equator)': [33],\n",
       "  'derived': [34],\n",
       "  'from': [35, 70],\n",
       "  'latest': [37],\n",
       "  'elevation': [38, 79, 232],\n",
       "  '(MERIT': [40],\n",
       "  'DEM)': [41],\n",
       "  'and': [42, 52, 108, 175, 198, 200, 220, 233, 247],\n",
       "  'water': [43, 173],\n",
       "  'body': [44],\n",
       "  'sets': [46, 101, 190],\n",
       "  '(G1WBM,': [47],\n",
       "  'Global': [48, 138],\n",
       "  'Surface': [49],\n",
       "  'Water': [50],\n",
       "  'Occurrence,': [51],\n",
       "  'OpenStreetMap).': [53],\n",
       "  'We': [54],\n",
       "  'developed': [55],\n",
       "  'algorithm': [58],\n",
       "  'to': [59, 207, 241],\n",
       "  'extract': [60],\n",
       "  'river': [61, 98, 109, 115, 124, 151, 163, 242],\n",
       "  'networks': [62],\n",
       "  'near': [63],\n",
       "  'automatically': [64],\n",
       "  'by': [65, 74],\n",
       "  'separating': [66],\n",
       "  'actual': [67],\n",
       "  'inland': [68],\n",
       "  'basins': [69, 164],\n",
       "  'dummy': [71],\n",
       "  'depressions': [72, 166],\n",
       "  'caused': [73],\n",
       "  'errors': [76],\n",
       "  'in': [77, 102, 129, 154, 161, 178, 191],\n",
       "  'input': [78],\n",
       "  'data.': [80, 126],\n",
       "  'After': [81],\n",
       "  'minimum': [83],\n",
       "  'amount': [84],\n",
       "  'of': [85, 104, 114, 137, 147, 193, 202, 210],\n",
       "  'hand': [86],\n",
       "  'editing,': [87],\n",
       "  'constructed': [89],\n",
       "  'shows': [92],\n",
       "  'good': [93],\n",
       "  'agreement': [94],\n",
       "  'with': [95, 120, 225],\n",
       "  'existing': [96, 121, 186],\n",
       "  'quality‐controlled': [97],\n",
       "  'network': [99],\n",
       "  'terms': [103, 192],\n",
       "  'accumulation': [106, 156, 222],\n",
       "  'area': [107, 132, 157],\n",
       "  'basin': [110],\n",
       "  'shape.': [111],\n",
       "  'The': [112, 216],\n",
       "  'location': [113],\n",
       "  'streamlines': [116],\n",
       "  'was': [117, 133],\n",
       "  'realistically': [118],\n",
       "  'aligned': [119],\n",
       "  'satellite‐based': [122],\n",
       "  'channel': [125, 234],\n",
       "  'Relative': [127],\n",
       "  'error': [128],\n",
       "  'drainage': [131],\n",
       "  '&lt;0.05': [134],\n",
       "  '90%': [136],\n",
       "  'Runoff': [139],\n",
       "  'Data': [140],\n",
       "  'Center': [141],\n",
       "  '(GRDC)': [142],\n",
       "  'gauges,': [143],\n",
       "  'confirming': [144],\n",
       "  'accuracy': [146],\n",
       "  'delineated': [149],\n",
       "  'networks.': [152],\n",
       "  'Discrepancies': [153],\n",
       "  'were': [158],\n",
       "  'found': [159],\n",
       "  'mostly': [160],\n",
       "  'arid': [162],\n",
       "  'containing': [165],\n",
       "  'that': [167],\n",
       "  'occasionally': [169],\n",
       "  'connected': [170],\n",
       "  'high': [172],\n",
       "  'levels': [174],\n",
       "  'thus': [176],\n",
       "  'resulting': [177],\n",
       "  'uncertain': [179],\n",
       "  'watershed': [180],\n",
       "  'boundaries.': [181],\n",
       "  'Hydro': [183],\n",
       "  'improves': [184],\n",
       "  'on': [185, 229],\n",
       "  'spatial': [194],\n",
       "  'coverage': [195],\n",
       "  '(between': [196],\n",
       "  'N90': [197],\n",
       "  'S60)': [199],\n",
       "  'representation': [201],\n",
       "  'small': [203],\n",
       "  'streams,': [204],\n",
       "  'mainly': [205],\n",
       "  'due': [206],\n",
       "  'increased': [208],\n",
       "  'availability': [209],\n",
       "  'high‐quality': [211],\n",
       "  'baseline': [212],\n",
       "  'geospatial': [213],\n",
       "  'sets.': [215],\n",
       "  'maps,': [223],\n",
       "  'along': [224],\n",
       "  'accompanying': [226],\n",
       "  'supplementary': [227],\n",
       "  'layers': [228],\n",
       "  'hydrologically': [230],\n",
       "  'adjusted': [231],\n",
       "  'width,': [235],\n",
       "  'will': [236],\n",
       "  'advance': [237],\n",
       "  'studies': [239],\n",
       "  'related': [240],\n",
       "  'hydrology': [243],\n",
       "  'both': [245],\n",
       "  'local': [248],\n",
       "  'scales.': [249]},\n",
       " 'cited_by_api_url': 'https://api.openalex.org/works?filter=cites:W2946882019',\n",
       " 'counts_by_year': [{'year': 2024, 'cited_by_count': 44},\n",
       "  {'year': 2023, 'cited_by_count': 138},\n",
       "  {'year': 2022, 'cited_by_count': 111},\n",
       "  {'year': 2021, 'cited_by_count': 88},\n",
       "  {'year': 2020, 'cited_by_count': 43},\n",
       "  {'year': 2019, 'cited_by_count': 5}],\n",
       " 'updated_date': '2024-05-11T08:20:53.407216',\n",
       " 'created_date': '2019-06-07'}"
      ]
     },
     "execution_count": 5,
     "metadata": {},
     "output_type": "execute_result"
    }
   ],
   "source": [
    "raw_data[0]"
   ]
  },
  {
   "cell_type": "code",
   "execution_count": 6,
   "id": "5a4aef33-22ef-4e5c-b953-7ed65f2349a7",
   "metadata": {},
   "outputs": [],
   "source": [
    "#Cleaning data. Out of the works we picked out the work id, author names and their affiliations, keywords, and referenced works.\n",
    "\n",
    "data = []\n",
    "for i in range(len(raw_data)):\n",
    "    work = raw_data[i]\n",
    "    id = work[\"id\"]\n",
    "    authorship = work[\"authorships\"]\n",
    "    authors = []\n",
    "    affiliations = []\n",
    "    keywords = []\n",
    "    references = []\n",
    "    for author in authorship:\n",
    "        institutions = []\n",
    "        for institution in author[\"institutions\"]:\n",
    "            institutions.append(institution[\"display_name\"])\n",
    "        authors.append([author[\"author\"][\"display_name\"], institutions])\n",
    "    for keyword in work[\"keywords\"]:\n",
    "        if \"display_name\" in keyword:\n",
    "            keywords.append(keyword[\"display_name\"])\n",
    "    for reference in work[\"referenced_works\"]:\n",
    "        references.append(reference)\n",
    "    datum = [id, work['display_name'], authors, keywords, references]\n",
    "    data.append(datum)"
   ]
  },
  {
   "cell_type": "code",
   "execution_count": 7,
   "id": "1a7786be-f009-471d-932d-c2c78da97a23",
   "metadata": {},
   "outputs": [],
   "source": [
    "#Converting the data to CSV\n",
    "df = pandas.DataFrame(data)\n",
    "df.to_csv(\"Data.csv\")"
   ]
  },
  {
   "cell_type": "code",
   "execution_count": 8,
   "id": "8b26677a-847f-4650-bbad-224cfcf40c48",
   "metadata": {},
   "outputs": [
    {
     "data": {
      "text/plain": [
       "'Dai Yamazaki'"
      ]
     },
     "execution_count": 8,
     "metadata": {},
     "output_type": "execute_result"
    }
   ],
   "source": [
    "#Histogram of authors publishing papers\n",
    "authors = []\n",
    "for datum in data:\n",
    "    for author in datum[2]:\n",
    "        authors.append(author[0])\n",
    "authors[0]"
   ]
  },
  {
   "cell_type": "code",
   "execution_count": 9,
   "id": "5f0587b5-6091-4173-a10d-f3a73d50f97e",
   "metadata": {},
   "outputs": [
    {
     "data": {
      "text/plain": [
       "['https://openalex.org/W2946882019',\n",
       " 'MERIT Hydro: A High‐Resolution Global Hydrography Map Based on Latest Topography Dataset',\n",
       " [['Dai Yamazaki',\n",
       "   ['The University of Tokyo', 'Tokyo Institute of Technology']],\n",
       "  ['Daiki Ikeshima', ['Tokyo Institute of Technology']],\n",
       "  ['Jeison Sosa', ['University of Bristol']],\n",
       "  ['Paul Bates', ['University of Bristol']],\n",
       "  ['George H. Allen', ['Texas A&M University']],\n",
       "  ['Tamlin M. Pavelsky', ['University of North Carolina at Chapel Hill']]],\n",
       " ['Surface Water Mapping',\n",
       "  'Watershed Simulation',\n",
       "  'Global Hydrology',\n",
       "  'Hydrological Modeling'],\n",
       " ['https://openalex.org/W1657065621',\n",
       "  'https://openalex.org/W1952891980',\n",
       "  'https://openalex.org/W1981213426',\n",
       "  'https://openalex.org/W2025969570',\n",
       "  'https://openalex.org/W2030671664',\n",
       "  'https://openalex.org/W2033355897',\n",
       "  'https://openalex.org/W2051721130',\n",
       "  'https://openalex.org/W2083971681',\n",
       "  'https://openalex.org/W2084744129',\n",
       "  'https://openalex.org/W2088733802',\n",
       "  'https://openalex.org/W2093267972',\n",
       "  'https://openalex.org/W2102868863',\n",
       "  'https://openalex.org/W2117769867',\n",
       "  'https://openalex.org/W2119534769',\n",
       "  'https://openalex.org/W2142536527',\n",
       "  'https://openalex.org/W2151185470',\n",
       "  'https://openalex.org/W2157954302',\n",
       "  'https://openalex.org/W2170339705',\n",
       "  'https://openalex.org/W2171675471',\n",
       "  'https://openalex.org/W2192883182',\n",
       "  'https://openalex.org/W2560167313',\n",
       "  'https://openalex.org/W2620109964',\n",
       "  'https://openalex.org/W2725897987',\n",
       "  'https://openalex.org/W2734715086',\n",
       "  'https://openalex.org/W2811310577']]"
      ]
     },
     "execution_count": 9,
     "metadata": {},
     "output_type": "execute_result"
    }
   ],
   "source": [
    "data[0]"
   ]
  },
  {
   "cell_type": "code",
   "execution_count": 10,
   "id": "2e55a87b-c551-4296-bb15-d61e21c17b40",
   "metadata": {},
   "outputs": [],
   "source": [
    "from collections import Counter\n",
    "authors = sorted(authors, key=Counter(authors).get, reverse=True)\n",
    "auth_hist = []\n",
    "for author in authors:\n",
    "    if not auth_hist.count((author, authors.count(author))):\n",
    "        auth_hist.append((author, authors.count(author)))\n",
    "auth_hist[:10]\n",
    "auth_hist2 = [x[1] for x in auth_hist]"
   ]
  },
  {
   "cell_type": "code",
   "execution_count": 11,
   "id": "402c7210-2cb5-4709-9fdf-f81f24dae3cd",
   "metadata": {},
   "outputs": [
    {
     "name": "stdout",
     "output_type": "stream",
     "text": [
      "10180\n"
     ]
    },
    {
     "data": {
      "text/plain": [
       "(array([9.653e+03, 3.020e+02, 8.600e+01, 2.200e+01, 1.900e+01, 5.500e+01,\n",
       "        1.900e+01, 1.300e+01, 6.000e+00, 5.000e+00]),\n",
       " array([ 1. ,  4.1,  7.2, 10.3, 13.4, 16.5, 19.6, 22.7, 25.8, 28.9, 32. ]),\n",
       " <BarContainer object of 10 artists>)"
      ]
     },
     "execution_count": 11,
     "metadata": {},
     "output_type": "execute_result"
    },
    {
     "data": {
      "image/png": "[encoded data removed]",
      "text/plain": [
       "<Figure size 1600x1600 with 1 Axes>"
      ]
     },
     "metadata": {},
     "output_type": "display_data"
    }
   ],
   "source": [
    "print(len(auth_hist2))\n",
    "fig, ax = plt.subplots(figsize=(16,16))\n",
    "ax.hist(auth_hist2)"
   ]
  },
  {
   "cell_type": "code",
   "execution_count": 12,
   "id": "e33df87b-ff8a-44e5-8edf-d6156ae33d01",
   "metadata": {},
   "outputs": [],
   "source": [
    "#Histogram showing authors by number of co-authors\n",
    "authors = {}\n",
    "\n",
    "for datum in data:\n",
    "    for author in datum[2]:\n",
    "        authors[author[0]] = set()\n",
    "\n",
    "for datum in data:\n",
    "    for author in datum[2]:\n",
    "        for coauthor in datum[2]:\n",
    "            if author[0] != coauthor[0]:\n",
    "                authors[author[0]].add(coauthor[0])"
   ]
  },
  {
   "cell_type": "code",
   "execution_count": 13,
   "id": "8d7950e5-1982-43ee-b6d3-fbeb077acfe4",
   "metadata": {},
   "outputs": [],
   "source": [
    "coauthors_count = authors.items()\n",
    "coauthors_count = sorted(coauthors_count, key = lambda x:len(x[1]), reverse=True)\n",
    "coauthors_hist = [len(x[1]) for x in coauthors_count]"
   ]
  },
  {
   "cell_type": "code",
   "execution_count": 14,
   "id": "a03e995a-cd4b-4a59-a472-ccfceeca2296",
   "metadata": {},
   "outputs": [
    {
     "data": {
      "text/plain": [
       "(array([9.39e+03, 5.14e+02, 1.12e+02, 3.70e+01, 1.00e+01, 5.50e+01,\n",
       "        4.10e+01, 1.50e+01, 5.00e+00, 1.00e+00]),\n",
       " array([  0. ,  19.6,  39.2,  58.8,  78.4,  98. , 117.6, 137.2, 156.8,\n",
       "        176.4, 196. ]),\n",
       " <BarContainer object of 10 artists>)"
      ]
     },
     "execution_count": 14,
     "metadata": {},
     "output_type": "execute_result"
    },
    {
     "data": {
      "image/png": "[encoded data removed]",
      "text/plain": [
       "<Figure size 1600x1600 with 1 Axes>"
      ]
     },
     "metadata": {},
     "output_type": "display_data"
    }
   ],
   "source": [
    "fig, ax = plt.subplots(figsize=(16,16))\n",
    "ax.hist(coauthors_hist)"
   ]
  },
  {
   "cell_type": "code",
   "execution_count": 15,
   "id": "af10ea8b-97f9-455e-aba8-d83f5c52b4a7",
   "metadata": {},
   "outputs": [
    {
     "data": {
      "text/plain": [
       "'Tokyo Institute of Technology'"
      ]
     },
     "execution_count": 15,
     "metadata": {},
     "output_type": "execute_result"
    }
   ],
   "source": [
    "#universities histogram\n",
    "institutions = []\n",
    "for datum in data:\n",
    "    temp_inst = []\n",
    "    for author in datum[2]:\n",
    "        for uni in author[1]:\n",
    "            if not temp_inst.count(uni):\n",
    "                temp_inst.append(uni)\n",
    "    institutions += temp_inst\n",
    "institutions[1]"
   ]
  },
  {
   "cell_type": "code",
   "execution_count": 16,
   "id": "80d83df0-730c-4710-91c1-0a7f48760ead",
   "metadata": {},
   "outputs": [],
   "source": [
    "institutions = sorted(institutions, key=Counter(institutions).get, reverse=True)\n",
    "inst_hist = []\n",
    "for institution in institutions:\n",
    "    if not inst_hist.count((institution, institutions.count(institution))):\n",
    "        inst_hist.append((institution, institutions.count(institution)))\n",
    "inst_hist2 = [x[1] for x in inst_hist]"
   ]
  },
  {
   "cell_type": "code",
   "execution_count": 17,
   "id": "4467f0b2-3391-4601-82a6-e824bc9407b2",
   "metadata": {},
   "outputs": [
    {
     "data": {
      "text/plain": [
       "(array([1.787e+03, 9.800e+01, 3.400e+01, 1.200e+01, 8.000e+00, 3.000e+00,\n",
       "        0.000e+00, 1.000e+00, 1.000e+00, 1.000e+00]),\n",
       " array([  1. ,  16.9,  32.8,  48.7,  64.6,  80.5,  96.4, 112.3, 128.2,\n",
       "        144.1, 160. ]),\n",
       " <BarContainer object of 10 artists>)"
      ]
     },
     "execution_count": 17,
     "metadata": {},
     "output_type": "execute_result"
    },
    {
     "data": {
      "image/png": "[encoded data removed]",
      "text/plain": [
       "<Figure size 1600x1600 with 1 Axes>"
      ]
     },
     "metadata": {},
     "output_type": "display_data"
    }
   ],
   "source": [
    "fig, ax = plt.subplots(figsize=(16,16))\n",
    "ax.hist(inst_hist2)"
   ]
  },
  {
   "cell_type": "code",
   "execution_count": 18,
   "id": "adf3d833-43d8-44e7-93ae-0dcab8812211",
   "metadata": {},
   "outputs": [],
   "source": [
    "#keywords histogram\n",
    "keys = []\n",
    "for datum in data:\n",
    "    for keyword in datum[3]:\n",
    "        keys.append(keyword)"
   ]
  },
  {
   "cell_type": "code",
   "execution_count": 19,
   "id": "91a1d563-d015-4633-becf-742c70521fb0",
   "metadata": {},
   "outputs": [],
   "source": [
    "keys = sorted(keys, key=Counter(keys).get, reverse=True)\n",
    "keys_hist = []\n",
    "for key in keys:\n",
    "    if not keys_hist.count((key, keys.count(key))):\n",
    "        keys_hist.append((key, keys.count(key)))\n",
    "keys_hist2 = [x[1] for x in keys_hist]"
   ]
  },
  {
   "cell_type": "code",
   "execution_count": 20,
   "id": "d0658581-fe69-4406-9799-5ed1f31d3855",
   "metadata": {},
   "outputs": [
    {
     "data": {
      "text/plain": [
       "(array([742.,  13.,   1.,   1.,   1.,   0.,   0.,   1.,   0.,   1.]),\n",
       " array([1.000e+00, 1.093e+02, 2.176e+02, 3.259e+02, 4.342e+02, 5.425e+02,\n",
       "        6.508e+02, 7.591e+02, 8.674e+02, 9.757e+02, 1.084e+03]),\n",
       " <BarContainer object of 10 artists>)"
      ]
     },
     "execution_count": 20,
     "metadata": {},
     "output_type": "execute_result"
    },
    {
     "data": {
      "image/png": "[encoded data removed]",
      "text/plain": [
       "<Figure size 1600x1600 with 1 Axes>"
      ]
     },
     "metadata": {},
     "output_type": "display_data"
    }
   ],
   "source": [
    "fig, ax = plt.subplots(figsize=(16,16))\n",
    "ax.hist(keys_hist2)"
   ]
  },
  {
   "cell_type": "code",
   "execution_count": 21,
   "id": "97b6d791-7ff0-408a-9873-1a33dcda27b6",
   "metadata": {},
   "outputs": [
    {
     "data": {
      "text/plain": [
       "5284"
      ]
     },
     "execution_count": 21,
     "metadata": {},
     "output_type": "execute_result"
    }
   ],
   "source": [
    "#Graph based on references\n",
    "#QUESTION 4\n",
    "edges = []\n",
    "nodes = []\n",
    "for datum in data:\n",
    "    node = datum[0]\n",
    "    nodes.append(node)\n",
    "\n",
    "for datum in data:\n",
    "    node = datum[0]\n",
    "    for reference in datum[4]:\n",
    "        if (nodes.count(reference)):\n",
    "            edges.append((node,reference))\n",
    "\n",
    "len(nodes)\n",
    "len(edges)"
   ]
  },
  {
   "cell_type": "code",
   "execution_count": 22,
   "id": "5ae62e67-31c3-4405-b664-391c42ffdd48",
   "metadata": {},
   "outputs": [
    {
     "name": "stdout",
     "output_type": "stream",
     "text": [
      "3557\n",
      "3557\n"
     ]
    }
   ],
   "source": [
    "G = nx.DiGraph()\n",
    "G.add_nodes_from(nodes)\n",
    "print(len(G.nodes()))\n",
    "G.add_edges_from(edges)\n",
    "print(len(G.nodes()))\n",
    "G_undir = G.to_undirected()"
   ]
  },
  {
   "cell_type": "code",
   "execution_count": 23,
   "id": "cee5d77e-dcf5-4d79-87f2-45e19d2610f8",
   "metadata": {},
   "outputs": [],
   "source": [
    "node_count = len(G.nodes())\n",
    "edge_count = len(G.edges())\n",
    "clustering = nx.average_clustering(G)\n",
    "#components_count = nx.number_connected_components(G)\n",
    "\n",
    "degrees = nx.degree(G)\n",
    "avg_degree = 0\n",
    "for degree in degrees:\n",
    "    avg_degree += degree[1]\n",
    "avg_degree /= node_count\n",
    "\"\"\"\n",
    "G_components = []\n",
    "for node in G_undir.nodes():\n",
    "    skip = False\n",
    "    for component in G_components:\n",
    "        if node in component.nodes():\n",
    "            skip = True\n",
    "            continue\n",
    "    if skip:\n",
    "        continue\n",
    "    temp_comp = nx.descendants(G, node)\n",
    "    temp_edges = G.edges(temp_comp)\n",
    "    if len(temp_edges) > 0:\n",
    "        G_comp = nx.from_edgelist(temp_edges)\n",
    "        G_components.append(G_comp)\n",
    "max_diameter = -1\n",
    "count = 0\n",
    "\n",
    "\"\"\"\n",
    "max_diameter = 0\n",
    "components = nx.connected_components(G_undir)\n",
    "count = 0\n",
    "for component in components:\n",
    "    comp = G_undir.subgraph(component)\n",
    "    max_diameter = max(max_diameter, (nx.diameter(comp)))\n",
    "    count+=1\n",
    "deviation = 0\n",
    "for degree in degrees:\n",
    "    deviation += (degree[1] - avg_degree)**2\n",
    "deviation /= node_count\n",
    "deviation = deviation**0.5"
   ]
  },
  {
   "cell_type": "code",
   "execution_count": 24,
   "id": "cfd1e55b-53d5-46fe-b617-1616182318d8",
   "metadata": {},
   "outputs": [
    {
     "name": "stdout",
     "output_type": "stream",
     "text": [
      "3557 5284 0.06352804872443882 2.971043013775654 3.337286367834354 25 830\n"
     ]
    }
   ],
   "source": [
    "print (node_count, edge_count, clustering, avg_degree, deviation, max_diameter, count)"
   ]
  },
  {
   "cell_type": "code",
   "execution_count": 25,
   "id": "438384c7-af48-4b9b-b298-9c9c89888314",
   "metadata": {},
   "outputs": [],
   "source": [
    "G_edgelist = G.edges()\n",
    "df = pandas.DataFrame(G_edgelist)\n",
    "df.to_csv(\"G_edgelist.csv\")"
   ]
  },
  {
   "cell_type": "code",
   "execution_count": 26,
   "id": "dcbfc406-c270-456c-9435-a79bde7ce080",
   "metadata": {},
   "outputs": [],
   "source": [
    "#QUESTION 5\n",
    "hubs, authorities = nx.hits(G)\n",
    "pagerank = nx.pagerank(G)"
   ]
  },
  {
   "cell_type": "code",
   "execution_count": 27,
   "id": "ced2a31a-2f80-454d-90fc-19eb432c22ae",
   "metadata": {},
   "outputs": [
    {
     "data": {
      "text/plain": [
       "(array([3.437e+03, 6.800e+01, 2.800e+01, 1.100e+01, 5.000e+00, 3.000e+00,\n",
       "        2.000e+00, 2.000e+00, 0.000e+00, 1.000e+00]),\n",
       " array([-9.81268467e-19,  2.23315972e-03,  4.46631944e-03,  6.69947917e-03,\n",
       "         8.93263889e-03,  1.11657986e-02,  1.33989583e-02,  1.56321181e-02,\n",
       "         1.78652778e-02,  2.00984375e-02,  2.23315972e-02]),\n",
       " <BarContainer object of 10 artists>)"
      ]
     },
     "execution_count": 27,
     "metadata": {},
     "output_type": "execute_result"
    },
    {
     "data": {
      "image/png": "[encoded data removed]",
      "text/plain": [
       "<Figure size 640x480 with 1 Axes>"
      ]
     },
     "metadata": {},
     "output_type": "display_data"
    }
   ],
   "source": [
    "sorted_hubs = dict(sorted(hubs.items(), key=lambda item: item[1], reverse = True))\n",
    "sorted_authorities = dict(sorted(authorities.items(), key=lambda item: item[1], reverse = True))\n",
    "i = 0\n",
    "plt.hist([items[1] for items in sorted_hubs.items()])"
   ]
  },
  {
   "cell_type": "code",
   "execution_count": 28,
   "id": "3a13a81e-6b5b-41ce-b682-aa9cd00be3f7",
   "metadata": {},
   "outputs": [],
   "source": [
    "#QUESTION 6\n",
    "author_edges = []\n",
    "unique_authors = []\n",
    "for item in auth_hist:\n",
    "    author = item[0]\n",
    "    unique_authors.append(author)\n",
    "    for coauthor in authors[author]:\n",
    "        author_edges.append((author, coauthor))"
   ]
  },
  {
   "cell_type": "code",
   "execution_count": 29,
   "id": "4c6f6a17-7b9c-4e2d-8624-0d4dd2f0180d",
   "metadata": {},
   "outputs": [],
   "source": [
    "A = nx.Graph()\n",
    "A.add_nodes_from(unique_authors)\n",
    "A.add_edges_from(author_edges)\n",
    "A = A.to_undirected()"
   ]
  },
  {
   "cell_type": "code",
   "execution_count": 30,
   "id": "c2e6c204-ee64-42a1-bc58-adbe43252a87",
   "metadata": {},
   "outputs": [
    {
     "name": "stdout",
     "output_type": "stream",
     "text": [
      "10180\n",
      "10180\n",
      "95152\n"
     ]
    }
   ],
   "source": [
    "print(len(A.nodes))\n",
    "print(len(auth_hist))\n",
    "print(len(author_edges))"
   ]
  },
  {
   "cell_type": "code",
   "execution_count": 31,
   "id": "2ec9f0dd-b15d-41a2-beba-db3da2b44b41",
   "metadata": {},
   "outputs": [
    {
     "name": "stdout",
     "output_type": "stream",
     "text": [
      "Martyn P. Clark\n"
     ]
    }
   ],
   "source": [
    "erdos = coauthors_count[0][0]\n",
    "print(erdos)"
   ]
  },
  {
   "cell_type": "code",
   "execution_count": 32,
   "id": "0e3cc7f5-5922-4646-b9c5-7b37b4223aa6",
   "metadata": {},
   "outputs": [],
   "source": [
    "#QUESTION 7\n",
    "erdos_number = {}\n",
    "for node in A.nodes():\n",
    "    erdos_number[node] = -1\n",
    "\n",
    "descendants = nx.algorithms.descendants(A, erdos)\n",
    "for node in A.nodes():\n",
    "    if node in descendants:\n",
    "        erdos_number[node] = nx.shortest_path_length(A, node, erdos)\n",
    "\n",
    "#sorted_erdos = dict(sorted(erdos_number.items(), key=lambda item: item[1]))"
   ]
  },
  {
   "cell_type": "code",
   "execution_count": 33,
   "id": "a1b03344-f186-4153-8955-36719750ae89",
   "metadata": {},
   "outputs": [],
   "source": [
    "close_authors = []\n",
    "for item in erdos_number.items():\n",
    "    author, length = item\n",
    "    if length > 0 and length <= 5:\n",
    "        close_authors.append(author)\n",
    "\n",
    "close_authors.append(erdos)"
   ]
  },
  {
   "cell_type": "code",
   "execution_count": 34,
   "id": "fb73b8c5-cba3-4814-a97d-7fd805a6fe2e",
   "metadata": {},
   "outputs": [
    {
     "name": "stdout",
     "output_type": "stream",
     "text": [
      "7078\n",
      "7078\n"
     ]
    }
   ],
   "source": [
    "#QUESTION 8 (VISUALISATION IS IN WHATSAPP)\n",
    "A_erdos = A.subgraph(close_authors)\n",
    "print(len(A_erdos.nodes()))\n",
    "print(len(close_authors))\n",
    "A_edgelist = A_erdos.edges()\n",
    "df = pandas.DataFrame(A_edgelist)\n",
    "df.to_csv(\"A_edgelist.csv\")"
   ]
  },
  {
   "cell_type": "code",
   "execution_count": 35,
   "id": "d0404fbe-6ccf-4fa3-abfa-dcee766d5185",
   "metadata": {},
   "outputs": [],
   "source": [
    "#QUESTION 10\n",
    "unique_inst = []\n",
    "inst_edges = []\n",
    "for datum in data:\n",
    "    temp_inst = []\n",
    "    for author in datum[2]:\n",
    "        for uni in author[1]:\n",
    "            temp_inst.append(uni)\n",
    "            if not unique_inst.count(uni):\n",
    "                unique_inst.append(uni)\n",
    "    for uni in temp_inst:\n",
    "        for uni2 in temp_inst:\n",
    "            if uni != uni2:\n",
    "                inst_edges.append((uni, uni2))"
   ]
  },
  {
   "cell_type": "code",
   "execution_count": 36,
   "id": "7df2d613-7e60-4a9c-b17c-0fe1f837f008",
   "metadata": {},
   "outputs": [],
   "source": [
    "I = nx.Graph()\n",
    "I.add_nodes_from(unique_inst)\n",
    "I.add_edges_from(inst_edges)\n",
    "I = I.to_undirected()"
   ]
  },
  {
   "cell_type": "code",
   "execution_count": null,
   "id": "a6d2ae81-41a9-46ed-8c0f-08f7e547015e",
   "metadata": {},
   "outputs": [],
   "source": [
    "I_node_count = len(I.nodes())\n",
    "I_edge_count = len(I.edges())\n",
    "\n",
    "I_max_diameter = 0\n",
    "I_components = nx.connected_components(I)\n",
    "count = 0\n",
    "for component in I_components:\n",
    "    comp = I.subgraph(component)\n",
    "    I_max_diameter = max(I_max_diameter, (nx.diameter(comp)))\n",
    "    count+=1\n",
    "\n",
    "I_clustering = nx.average_clustering(I)\n",
    "\n",
    "I_degrees = nx.degree(I)\n",
    "I_avg_degree = 0\n",
    "for degree in I_degrees:\n",
    "    I_avg_degree += degree[1]\n",
    "I_avg_degree /= node_count\n",
    "\n",
    "I_deviation = 0\n",
    "for degree in I_degrees:\n",
    "    I_deviation += (degree[1] - I_avg_degree)**2\n",
    "I_deviation /= I_node_count\n",
    "I_deviation = I_deviation**0.5"
   ]
  },
  {
   "cell_type": "code",
   "execution_count": 41,
   "id": "2bf5a6bc-a2e3-47bf-ba4a-50c402613aba",
   "metadata": {},
   "outputs": [
    {
     "name": "stdout",
     "output_type": "stream",
     "text": [
      "1945 15211 0 0.6358843707840576 8.552712960359854 27.363922180500403\n"
     ]
    }
   ],
   "source": [
    "print(I_node_count, I_edge_count, I_max_diameter, I_clustering, I_avg_degree, I_deviation)"
   ]
  },
  {
   "cell_type": "code",
   "execution_count": 39,
   "id": "c0145e16-5079-4c46-b20a-ae63bcc7bdf9",
   "metadata": {},
   "outputs": [
    {
     "data": {
      "text/plain": [
       "(array([1.686e+03, 1.380e+02, 6.600e+01, 2.800e+01, 1.400e+01, 6.000e+00,\n",
       "        2.000e+00, 3.000e+00, 1.000e+00, 1.000e+00]),\n",
       " array([  0.,  30.,  60.,  90., 120., 150., 180., 210., 240., 270., 300.]),\n",
       " <BarContainer object of 10 artists>)"
      ]
     },
     "execution_count": 39,
     "metadata": {},
     "output_type": "execute_result"
    },
    {
     "data": {
      "image/png": "[encoded data removed]",
      "text/plain": [
       "<Figure size 640x480 with 1 Axes>"
      ]
     },
     "metadata": {},
     "output_type": "display_data"
    }
   ],
   "source": [
    "plt.hist([x[1] for x in I_degrees])"
   ]
  },
  {
   "cell_type": "code",
   "execution_count": null,
   "id": "850fbcba-177b-4dd2-874c-6a6543f16261",
   "metadata": {},
   "outputs": [],
   "source": []
  }
 ],
 "metadata": {
  "kernelspec": {
   "display_name": "Python 3 (ipykernel)",
   "language": "python",
   "name": "python3"
  },
  "language_info": {
   "codemirror_mode": {
    "name": "ipython",
    "version": 3
   },
   "file_extension": ".py",
   "mimetype": "text/x-python",
   "name": "python",
   "nbconvert_exporter": "python",
   "pygments_lexer": "ipython3",
   "version": "3.11.7"
  }
 },
 "nbformat": 4,
 "nbformat_minor": 5
}
